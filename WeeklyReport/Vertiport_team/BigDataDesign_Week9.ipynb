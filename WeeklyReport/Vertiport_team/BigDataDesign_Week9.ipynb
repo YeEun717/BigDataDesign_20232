{
 "cells": [
  {
   "attachments": {},
   "cell_type": "markdown",
   "metadata": {},
   "source": [
    "# Weekly Report\n",
    "- Team members: 21600313 Park, 21700567 Lee, 21900296 Park, 22000741 Cha, 22100163 Yujin Kim\n",
    "- Meeting Date: 231026\n",
    "- Project Name: Vertiport Placement in Gyeongsangbuk-do with Machine Learning Approach\n",
    "- Project Goal: Select optimal vertiport locations that increase accessibility from urban areas to new TK airport through K-means clustering model."
   ]
  },
  {
   "attachments": {},
   "cell_type": "markdown",
   "metadata": {},
   "source": [
    "### Weekly plan (Fill this in)\n",
    "\n",
    "| Week    | Schedule        | Note                      |\n",
    "|---------|-----------------|---------------------------|\n",
    "| Week 9  | 중간 발표 피드백| 이영재 책임님과 김정현 교수님으로부터 피드백 받고 해당 내용 수정|\n",
    "| Week 10 | Narrowing down Topic  |  피드백에 따른 주제 수정 및 배경연구  수집할 데이터 항목 리스트업<br>박충호 & 박유빈: 비행제약 구역 데이터 조사  <br>차신국&김유진: 지형 경사도, 버티포트 가이드라인 조사 및 데이터 조사 <br>이주찬: eVTOL 타겟 모델 조사|\n",
    "| Week 11 |버티포트 입지 선정에 영향을 주는 변수 선정, 해당 데이터 수집 및 시각화 |데이터 수집 후 지도 데이터 시각화 및 비행제한구역 시각화, 버티포트 선정에 제약이 되는 변수 파악 및 데이터 수집|\n",
    "| Week 12 |버티포트 입지 선정에 영향을 주는 변수 적용|버티포트 입지선정에 영향을 주는 변수를 모델이나 데이터에 어떻게 적용 할 것인지 조사|\n",
    "| Week 13 |Vertiport 입지 선정| 다양한 변수들을 데이터와 모델에 적용해보고, K-means clustering을 통한 버티포트 입지후보 선정 |\n",
    "| Week 14 |Vertiport 입지 최종 선정| 입지후보가 조사한 기준 및 가이드라인에 적합한지 확인 및 최종입지 선정  |\n",
    "| Week 15 |발표 자료 제작 및 최종 점검|  발표 자료 제작 및 프로세스 최종점검   |\n",
    "| Week 16 |최종 발표|  최종 발표      |\n",
    "\n"
   ]
  },
  {
   "attachments": {},
   "cell_type": "markdown",
   "metadata": {},
   "source": [
    "### Summary of previous meeting\n",
    "- Previous discussion:없음(중간고사 발표)\n",
    "- Comments from Professor:\n",
    "  * 지형 경사도, vertiport 구역 권역 내 장애물 분석이 필요하면 EASA 참고\n",
    "  * UAM에서 가장 나중에 생각하는 것이 사람이므로 제대로된 결과를 내기 위해서는 사람이 아닌 물건이나 다른 쪽에 focus하는 것이 좋다. (군사 물자 수송 등, needs 측면에서는 여객운송보다는 관광이 더 기대됨)\n",
    "  * 어떤 비행체를 쓸 것인가에 따라 달라지는 부분이 있으므로 운행하게 될 기체에 대해 조사해야 함\n",
    "  * 이 프로젝트에서 기대하는 최종결과물과 의의 추가\n",
    "- Previous plan:"
   ]
  },
  {
   "attachments": {},
   "cell_type": "markdown",
   "metadata": {},
   "source": [
    "### Summary of working progress\n",
    "- Level of progress in weekly plan: 90 % completed (since there will be more things to investigate in the future)\n",
    "- **Progress 1: UAM 수요 조사 (90%)**\n",
    "  * Relocation of Daegu International Airport(2030)\n",
    "  * Impact of Rapid Urbanization\n",
    "\n",
    "<figure>\n",
    "          <img src=\"demand.png\"/>\n",
    "          <figcaption><center>Figure 1. \b경상북도 내 버티포트 입지 선정의 필요성</center></figcaption>\n",
    "        </figure> <br>\n",
    "- Progress 2: **Vertiport 입지선정에 영향을 주는 예상 변수 조사 (90%)**\n",
    "  1. Demand\n",
    "  2. Conveniency\n",
    "  3. Feasibility\n",
    "   <br>\n",
    "   <figure>\n",
    "        <img src=\"features.png\"/>\n",
    "        <figcaption><center>Figure 2. \b버티포트 입지 선정 시 고려해야 할 요소</center></figcaption>\n",
    "    </figure> \n",
    "    <br>\n",
    "- Progress 3: **이미 Vertiport 입지 선정을 주제로 한 국내 선행연구 조사 (90%)**\n",
    "  <br>\n",
    "   <figure>\n",
    "        <img src=\"predecent.png\"/>\n",
    "        <figcaption><center>Figure 3. \b선행연구 비교</center></figcaption>\n",
    "    </figure> \n",
    "    <br>"
   ]
  },
  {
   "attachments": {},
   "cell_type": "markdown",
   "metadata": {},
   "source": [
    "### Pending assignments or requests\n",
    "- pending assingments:\n",
    "  * 어떤 데이터를 수집할 것인지 리스트업해오기\n",
    "  * 어디에 초점을 맞춰서 Scope down할 것인지 정하기\n",
    "    * 물류 운송 (택배, 전국구, 경북)\n",
    "    * 의료 (권역외상)\n",
    "    * 관광 (경북, 토프 모빌리티)\n",
    "  * EASA, MOA, 군 작전 위험 구역, 포항-대구공항 관제권 (통상 5nm, 4000 ~ 5000 ft의 고도), 지형 경사도 (이를 위해 EASA의 기준 참고)에 대해 사전 조사\n",
    "  * 한국에서 고려해야 되는 것에 어떤 것이 있는지 고려\n",
    "  * 질문 리스트 정리\n",
    "  * 운항할 기체의 스펙에 대해 조사\n",
    "\n",
    "- requests:\n",
    "  * 책임님께 데이터 제공 요청"
   ]
  }
 ],
 "metadata": {
  "language_info": {
   "name": "python"
  },
  "orig_nbformat": 4
 },
 "nbformat": 4,
 "nbformat_minor": 2
}
